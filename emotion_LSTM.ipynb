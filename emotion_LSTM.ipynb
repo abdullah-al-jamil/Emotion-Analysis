{
  "nbformat": 4,
  "nbformat_minor": 0,
  "metadata": {
    "colab": {
      "name": "emotion LSTM.ipynb",
      "provenance": [],
      "authorship_tag": "ABX9TyOKKesCJxgrNUMBW7ypw/Ns",
      "include_colab_link": true
    },
    "kernelspec": {
      "name": "python3",
      "display_name": "Python 3"
    }
  },
  "cells": [
    {
      "cell_type": "markdown",
      "metadata": {
        "id": "view-in-github",
        "colab_type": "text"
      },
      "source": [
        "<a href=\"https://colab.research.google.com/github/abdullah-al-jamil/Emotion-Analysis/blob/main/emotion_LSTM.ipynb\" target=\"_parent\"><img src=\"https://colab.research.google.com/assets/colab-badge.svg\" alt=\"Open In Colab\"/></a>"
      ]
    },
    {
      "cell_type": "code",
      "metadata": {
        "id": "WIc3q0ylRVeQ"
      },
      "source": [
        "try: \r\n",
        "  %tensorflow_version 2.x\r\n",
        "except Exception:\r\n",
        "  pass\r\n",
        "\r\n",
        "import tensorflow as tf\r\n",
        "keras = tf.keras"
      ],
      "execution_count": null,
      "outputs": []
    },
    {
      "cell_type": "code",
      "metadata": {
        "id": "av2CEnr4SJgx"
      },
      "source": [
        "import gensim, re\r\n",
        "import numpy as np\r\n",
        "import pandas as pd"
      ],
      "execution_count": null,
      "outputs": []
    },
    {
      "cell_type": "code",
      "metadata": {
        "colab": {
          "base_uri": "https://localhost:8080/"
        },
        "id": "38jtE3pCSM5P",
        "outputId": "0a270b3d-d3c0-45a2-ff9e-adb4fd5def89"
      },
      "source": [
        "!wget https://raw.githubusercontent.com/abdullah-al-jamil/Emotion-and-Sentiment-Analysis/main/Emotion.csv -P \"/content/drive/My Drive/app\""
      ],
      "execution_count": null,
      "outputs": [
        {
          "output_type": "stream",
          "text": [
            "--2021-02-13 16:16:20--  https://raw.githubusercontent.com/abdullah-al-jamil/Emotion-and-Sentiment-Analysis/main/Emotion.csv\n",
            "Resolving raw.githubusercontent.com (raw.githubusercontent.com)... 185.199.108.133, 185.199.111.133, 185.199.110.133, ...\n",
            "Connecting to raw.githubusercontent.com (raw.githubusercontent.com)|185.199.108.133|:443... connected.\n",
            "HTTP request sent, awaiting response... 200 OK\n",
            "Length: 389954 (381K) [text/plain]\n",
            "Saving to: ‘/content/drive/My Drive/app/Emotion.csv’\n",
            "\n",
            "Emotion.csv         100%[===================>] 380.81K  --.-KB/s    in 0.03s   \n",
            "\n",
            "2021-02-13 16:16:21 (12.6 MB/s) - ‘/content/drive/My Drive/app/Emotion.csv’ saved [389954/389954]\n",
            "\n"
          ],
          "name": "stdout"
        }
      ]
    },
    {
      "cell_type": "code",
      "metadata": {
        "colab": {
          "base_uri": "https://localhost:8080/",
          "height": 204
        },
        "id": "p6LRglxsSUW7",
        "outputId": "7ef4e5d7-e1b9-489a-9fe8-9000fa100100"
      },
      "source": [
        "df = pd.read_csv('/content/drive/My Drive/app/Emotion.csv', sep=';')\r\n",
        "df.head(5)"
      ],
      "execution_count": null,
      "outputs": [
        {
          "output_type": "execute_result",
          "data": {
            "text/html": [
              "<div>\n",
              "<style scoped>\n",
              "    .dataframe tbody tr th:only-of-type {\n",
              "        vertical-align: middle;\n",
              "    }\n",
              "\n",
              "    .dataframe tbody tr th {\n",
              "        vertical-align: top;\n",
              "    }\n",
              "\n",
              "    .dataframe thead th {\n",
              "        text-align: right;\n",
              "    }\n",
              "</style>\n",
              "<table border=\"1\" class=\"dataframe\">\n",
              "  <thead>\n",
              "    <tr style=\"text-align: right;\">\n",
              "      <th></th>\n",
              "      <th>id</th>\n",
              "      <th>text</th>\n",
              "      <th>emotion</th>\n",
              "      <th>lan</th>\n",
              "      <th>domain</th>\n",
              "    </tr>\n",
              "  </thead>\n",
              "  <tbody>\n",
              "    <tr>\n",
              "      <th>0</th>\n",
              "      <td>2275</td>\n",
              "      <td>Hands down. You are good. I mean smart good.</td>\n",
              "      <td>joy</td>\n",
              "      <td>EN</td>\n",
              "      <td>funny_video</td>\n",
              "    </tr>\n",
              "    <tr>\n",
              "      <th>1</th>\n",
              "      <td>2283</td>\n",
              "      <td>Your are very good. keep it up</td>\n",
              "      <td>none</td>\n",
              "      <td>EN</td>\n",
              "      <td>funny_video</td>\n",
              "    </tr>\n",
              "    <tr>\n",
              "      <th>2</th>\n",
              "      <td>2292</td>\n",
              "      <td>Man!! I will never get used to these videos of...</td>\n",
              "      <td>surprise</td>\n",
              "      <td>EN</td>\n",
              "      <td>funny_video</td>\n",
              "    </tr>\n",
              "    <tr>\n",
              "      <th>3</th>\n",
              "      <td>2293</td>\n",
              "      <td>ডিসলাইক দেয়া 32</td>\n",
              "      <td>none</td>\n",
              "      <td>BN</td>\n",
              "      <td>funny_video</td>\n",
              "    </tr>\n",
              "    <tr>\n",
              "      <th>4</th>\n",
              "      <td>2298</td>\n",
              "      <td>ব্যাপক বিনোদন।</td>\n",
              "      <td>joy</td>\n",
              "      <td>BN</td>\n",
              "      <td>funny_video</td>\n",
              "    </tr>\n",
              "  </tbody>\n",
              "</table>\n",
              "</div>"
            ],
            "text/plain": [
              "     id                                               text  ... lan       domain\n",
              "0  2275       Hands down. You are good. I mean smart good.  ...  EN  funny_video\n",
              "1  2283                     Your are very good. keep it up  ...  EN  funny_video\n",
              "2  2292  Man!! I will never get used to these videos of...  ...  EN  funny_video\n",
              "3  2293                                    ডিসলাইক দেয়া 32  ...  BN  funny_video\n",
              "4  2298                                     ব্যাপক বিনোদন।  ...  BN  funny_video\n",
              "\n",
              "[5 rows x 5 columns]"
            ]
          },
          "metadata": {
            "tags": []
          },
          "execution_count": 4
        }
      ]
    },
    {
      "cell_type": "code",
      "metadata": {
        "colab": {
          "base_uri": "https://localhost:8080/"
        },
        "id": "nw4KN_08Sa4r",
        "outputId": "c535d915-4235-445e-a2f4-bc28e111610c"
      },
      "source": [
        "df1 = df[df.lan=='BN']\r\n",
        "len(df1)"
      ],
      "execution_count": null,
      "outputs": [
        {
          "output_type": "execute_result",
          "data": {
            "text/plain": [
              "1006"
            ]
          },
          "metadata": {
            "tags": []
          },
          "execution_count": 5
        }
      ]
    },
    {
      "cell_type": "code",
      "metadata": {
        "colab": {
          "base_uri": "https://localhost:8080/"
        },
        "id": "gq2bvtUQSnNU",
        "outputId": "38d25cd5-0504-48b2-e27d-6808297e7f3f"
      },
      "source": [
        "!wget https://raw.githubusercontent.com/abdullah-al-jamil/Emotion-and-Sentiment-Analysis/main/stop_words.txt -P \"/content/drive/My Drive/app\"\r\n",
        "with open('/content/drive/My Drive/app/stop_words.txt', \"r\") as file1:\r\n",
        "    stopwords = file1.read()"
      ],
      "execution_count": null,
      "outputs": [
        {
          "output_type": "stream",
          "text": [
            "--2021-02-13 16:16:21--  https://raw.githubusercontent.com/abdullah-al-jamil/Emotion-and-Sentiment-Analysis/main/stop_words.txt\n",
            "Resolving raw.githubusercontent.com (raw.githubusercontent.com)... 185.199.108.133, 185.199.109.133, 185.199.110.133, ...\n",
            "Connecting to raw.githubusercontent.com (raw.githubusercontent.com)|185.199.108.133|:443... connected.\n",
            "HTTP request sent, awaiting response... 200 OK\n",
            "Length: 10442 (10K) [text/plain]\n",
            "Saving to: ‘/content/drive/My Drive/app/stop_words.txt’\n",
            "\n",
            "stop_words.txt      100%[===================>]  10.20K  --.-KB/s    in 0s      \n",
            "\n",
            "2021-02-13 16:16:22 (66.2 MB/s) - ‘/content/drive/My Drive/app/stop_words.txt’ saved [10442/10442]\n",
            "\n"
          ],
          "name": "stdout"
        }
      ]
    },
    {
      "cell_type": "code",
      "metadata": {
        "colab": {
          "base_uri": "https://localhost:8080/",
          "height": 289
        },
        "id": "9Aeu5_lnSrN0",
        "outputId": "eec7dbb7-2519-4948-ef28-f55dd27d91ff"
      },
      "source": [
        "def pre_process(sentence):\r\n",
        "  #remove link\r\n",
        "  sentence = re.sub(r'https?:\\/\\/.*[\\r\\n]*', '', sentence)\r\n",
        "  sentence = re.sub(r'[^\\u0980-\\u09FF ]+', '', sentence)\r\n",
        "  words = sentence.split()\r\n",
        "  new_sentence = ''\r\n",
        "\r\n",
        "  for word in words:\r\n",
        "    if word not in stopwords:\r\n",
        "      new_sentence += (word + \" \")\r\n",
        "  return new_sentence\r\n",
        "\r\n",
        "sentences = []\r\n",
        "temp_sentences = df1['text']\r\n",
        "\r\n",
        "for i in temp_sentences:\r\n",
        "  sentences.append(pre_process(i))\r\n",
        "\r\n",
        "df1['text'] = sentences\r\n",
        "df1.head()\r\n"
      ],
      "execution_count": null,
      "outputs": [
        {
          "output_type": "stream",
          "text": [
            "/usr/local/lib/python3.6/dist-packages/ipykernel_launcher.py:19: SettingWithCopyWarning: \n",
            "A value is trying to be set on a copy of a slice from a DataFrame.\n",
            "Try using .loc[row_indexer,col_indexer] = value instead\n",
            "\n",
            "See the caveats in the documentation: https://pandas.pydata.org/pandas-docs/stable/user_guide/indexing.html#returning-a-view-versus-a-copy\n"
          ],
          "name": "stderr"
        },
        {
          "output_type": "execute_result",
          "data": {
            "text/html": [
              "<div>\n",
              "<style scoped>\n",
              "    .dataframe tbody tr th:only-of-type {\n",
              "        vertical-align: middle;\n",
              "    }\n",
              "\n",
              "    .dataframe tbody tr th {\n",
              "        vertical-align: top;\n",
              "    }\n",
              "\n",
              "    .dataframe thead th {\n",
              "        text-align: right;\n",
              "    }\n",
              "</style>\n",
              "<table border=\"1\" class=\"dataframe\">\n",
              "  <thead>\n",
              "    <tr style=\"text-align: right;\">\n",
              "      <th></th>\n",
              "      <th>id</th>\n",
              "      <th>text</th>\n",
              "      <th>emotion</th>\n",
              "      <th>lan</th>\n",
              "      <th>domain</th>\n",
              "    </tr>\n",
              "  </thead>\n",
              "  <tbody>\n",
              "    <tr>\n",
              "      <th>3</th>\n",
              "      <td>2293</td>\n",
              "      <td>ডিসলাইক দেয়া</td>\n",
              "      <td>none</td>\n",
              "      <td>BN</td>\n",
              "      <td>funny_video</td>\n",
              "    </tr>\n",
              "    <tr>\n",
              "      <th>4</th>\n",
              "      <td>2298</td>\n",
              "      <td>ব্যাপক বিনোদন</td>\n",
              "      <td>joy</td>\n",
              "      <td>BN</td>\n",
              "      <td>funny_video</td>\n",
              "    </tr>\n",
              "    <tr>\n",
              "      <th>8</th>\n",
              "      <td>2312</td>\n",
              "      <td>খারাপ থাকলেই ঢুকে পরি চ্যানেলে</td>\n",
              "      <td>none</td>\n",
              "      <td>BN</td>\n",
              "      <td>funny_video</td>\n",
              "    </tr>\n",
              "    <tr>\n",
              "      <th>13</th>\n",
              "      <td>2421</td>\n",
              "      <td>কন্টেন্ট ক্রিয়েটর একটা প্রজেক্ট টাইম এফোর্ট এক...</td>\n",
              "      <td>disgust</td>\n",
              "      <td>BN</td>\n",
              "      <td>funny_video</td>\n",
              "    </tr>\n",
              "    <tr>\n",
              "      <th>14</th>\n",
              "      <td>2423</td>\n",
              "      <td>জাতি</td>\n",
              "      <td>none</td>\n",
              "      <td>BN</td>\n",
              "      <td>funny_video</td>\n",
              "    </tr>\n",
              "  </tbody>\n",
              "</table>\n",
              "</div>"
            ],
            "text/plain": [
              "      id                                               text  ... lan       domain\n",
              "3   2293                                      ডিসলাইক দেয়া   ...  BN  funny_video\n",
              "4   2298                                     ব্যাপক বিনোদন   ...  BN  funny_video\n",
              "8   2312                    খারাপ থাকলেই ঢুকে পরি চ্যানেলে   ...  BN  funny_video\n",
              "13  2421  কন্টেন্ট ক্রিয়েটর একটা প্রজেক্ট টাইম এফোর্ট এক...  ...  BN  funny_video\n",
              "14  2423                                              জাতি   ...  BN  funny_video\n",
              "\n",
              "[5 rows x 5 columns]"
            ]
          },
          "metadata": {
            "tags": []
          },
          "execution_count": 7
        }
      ]
    },
    {
      "cell_type": "code",
      "metadata": {
        "colab": {
          "base_uri": "https://localhost:8080/"
        },
        "id": "Kvge3J0BSw2k",
        "outputId": "cf0e8521-e76d-453f-be65-23e2b97491ca"
      },
      "source": [
        "df1['emotion'] = np.where(df1['emotion']=='anger', 'disgust',  df1['emotion'])\r\n",
        "df1['emotion'] = np.where(df1['emotion']=='fear', 'surprise',  df1['emotion'])\r\n",
        "df1['emotion'] = np.where(df1['emotion']=='others', 'none',  df1['emotion'])"
      ],
      "execution_count": null,
      "outputs": [
        {
          "output_type": "stream",
          "text": [
            "/usr/local/lib/python3.6/dist-packages/ipykernel_launcher.py:1: SettingWithCopyWarning: \n",
            "A value is trying to be set on a copy of a slice from a DataFrame.\n",
            "Try using .loc[row_indexer,col_indexer] = value instead\n",
            "\n",
            "See the caveats in the documentation: https://pandas.pydata.org/pandas-docs/stable/user_guide/indexing.html#returning-a-view-versus-a-copy\n",
            "  \"\"\"Entry point for launching an IPython kernel.\n",
            "/usr/local/lib/python3.6/dist-packages/ipykernel_launcher.py:2: SettingWithCopyWarning: \n",
            "A value is trying to be set on a copy of a slice from a DataFrame.\n",
            "Try using .loc[row_indexer,col_indexer] = value instead\n",
            "\n",
            "See the caveats in the documentation: https://pandas.pydata.org/pandas-docs/stable/user_guide/indexing.html#returning-a-view-versus-a-copy\n",
            "  \n",
            "/usr/local/lib/python3.6/dist-packages/ipykernel_launcher.py:3: SettingWithCopyWarning: \n",
            "A value is trying to be set on a copy of a slice from a DataFrame.\n",
            "Try using .loc[row_indexer,col_indexer] = value instead\n",
            "\n",
            "See the caveats in the documentation: https://pandas.pydata.org/pandas-docs/stable/user_guide/indexing.html#returning-a-view-versus-a-copy\n",
            "  This is separate from the ipykernel package so we can avoid doing imports until\n"
          ],
          "name": "stderr"
        }
      ]
    },
    {
      "cell_type": "code",
      "metadata": {
        "colab": {
          "base_uri": "https://localhost:8080/"
        },
        "id": "dJcdWpNkTjzt",
        "outputId": "da724a0b-8554-4d6c-da7d-c6c9eca8d484"
      },
      "source": [
        "fisible = []\r\n",
        "for sentence in sentences:\r\n",
        "  if len(sentence.split())<=30:\r\n",
        "    fisible.append(1)\r\n",
        "  else:\r\n",
        "    fisible.append(0)\r\n",
        "\r\n",
        "df1['fisible'] = fisible\r\n",
        "len(df1)"
      ],
      "execution_count": null,
      "outputs": [
        {
          "output_type": "stream",
          "text": [
            "/usr/local/lib/python3.6/dist-packages/ipykernel_launcher.py:8: SettingWithCopyWarning: \n",
            "A value is trying to be set on a copy of a slice from a DataFrame.\n",
            "Try using .loc[row_indexer,col_indexer] = value instead\n",
            "\n",
            "See the caveats in the documentation: https://pandas.pydata.org/pandas-docs/stable/user_guide/indexing.html#returning-a-view-versus-a-copy\n",
            "  \n"
          ],
          "name": "stderr"
        },
        {
          "output_type": "execute_result",
          "data": {
            "text/plain": [
              "1006"
            ]
          },
          "metadata": {
            "tags": []
          },
          "execution_count": 9
        }
      ]
    },
    {
      "cell_type": "code",
      "metadata": {
        "colab": {
          "base_uri": "https://localhost:8080/"
        },
        "id": "TPHKHhgJTwrk",
        "outputId": "62903fbc-5247-45b0-b071-273aa2dd2023"
      },
      "source": [
        "df2 = df1[df1.fisible==1]\r\n",
        "len(df1)"
      ],
      "execution_count": null,
      "outputs": [
        {
          "output_type": "execute_result",
          "data": {
            "text/plain": [
              "1006"
            ]
          },
          "metadata": {
            "tags": []
          },
          "execution_count": 10
        }
      ]
    },
    {
      "cell_type": "code",
      "metadata": {
        "colab": {
          "base_uri": "https://localhost:8080/",
          "height": 419
        },
        "id": "PM8fFbJPT17U",
        "outputId": "daf9e320-4d94-4d06-a47c-7f0bde4fb14e"
      },
      "source": [
        "labels = []\r\n",
        "for i in df2['emotion']:\r\n",
        "  labels.append(i)\r\n",
        "\r\n",
        "y = np.asarray(pd.get_dummies(labels))\r\n",
        "pd.get_dummies(labels)\r\n"
      ],
      "execution_count": null,
      "outputs": [
        {
          "output_type": "execute_result",
          "data": {
            "text/html": [
              "<div>\n",
              "<style scoped>\n",
              "    .dataframe tbody tr th:only-of-type {\n",
              "        vertical-align: middle;\n",
              "    }\n",
              "\n",
              "    .dataframe tbody tr th {\n",
              "        vertical-align: top;\n",
              "    }\n",
              "\n",
              "    .dataframe thead th {\n",
              "        text-align: right;\n",
              "    }\n",
              "</style>\n",
              "<table border=\"1\" class=\"dataframe\">\n",
              "  <thead>\n",
              "    <tr style=\"text-align: right;\">\n",
              "      <th></th>\n",
              "      <th>disgust</th>\n",
              "      <th>joy</th>\n",
              "      <th>none</th>\n",
              "      <th>sad</th>\n",
              "      <th>surprise</th>\n",
              "    </tr>\n",
              "  </thead>\n",
              "  <tbody>\n",
              "    <tr>\n",
              "      <th>0</th>\n",
              "      <td>0</td>\n",
              "      <td>0</td>\n",
              "      <td>1</td>\n",
              "      <td>0</td>\n",
              "      <td>0</td>\n",
              "    </tr>\n",
              "    <tr>\n",
              "      <th>1</th>\n",
              "      <td>0</td>\n",
              "      <td>1</td>\n",
              "      <td>0</td>\n",
              "      <td>0</td>\n",
              "      <td>0</td>\n",
              "    </tr>\n",
              "    <tr>\n",
              "      <th>2</th>\n",
              "      <td>0</td>\n",
              "      <td>0</td>\n",
              "      <td>1</td>\n",
              "      <td>0</td>\n",
              "      <td>0</td>\n",
              "    </tr>\n",
              "    <tr>\n",
              "      <th>3</th>\n",
              "      <td>1</td>\n",
              "      <td>0</td>\n",
              "      <td>0</td>\n",
              "      <td>0</td>\n",
              "      <td>0</td>\n",
              "    </tr>\n",
              "    <tr>\n",
              "      <th>4</th>\n",
              "      <td>0</td>\n",
              "      <td>0</td>\n",
              "      <td>1</td>\n",
              "      <td>0</td>\n",
              "      <td>0</td>\n",
              "    </tr>\n",
              "    <tr>\n",
              "      <th>...</th>\n",
              "      <td>...</td>\n",
              "      <td>...</td>\n",
              "      <td>...</td>\n",
              "      <td>...</td>\n",
              "      <td>...</td>\n",
              "    </tr>\n",
              "    <tr>\n",
              "      <th>965</th>\n",
              "      <td>1</td>\n",
              "      <td>0</td>\n",
              "      <td>0</td>\n",
              "      <td>0</td>\n",
              "      <td>0</td>\n",
              "    </tr>\n",
              "    <tr>\n",
              "      <th>966</th>\n",
              "      <td>1</td>\n",
              "      <td>0</td>\n",
              "      <td>0</td>\n",
              "      <td>0</td>\n",
              "      <td>0</td>\n",
              "    </tr>\n",
              "    <tr>\n",
              "      <th>967</th>\n",
              "      <td>1</td>\n",
              "      <td>0</td>\n",
              "      <td>0</td>\n",
              "      <td>0</td>\n",
              "      <td>0</td>\n",
              "    </tr>\n",
              "    <tr>\n",
              "      <th>968</th>\n",
              "      <td>1</td>\n",
              "      <td>0</td>\n",
              "      <td>0</td>\n",
              "      <td>0</td>\n",
              "      <td>0</td>\n",
              "    </tr>\n",
              "    <tr>\n",
              "      <th>969</th>\n",
              "      <td>1</td>\n",
              "      <td>0</td>\n",
              "      <td>0</td>\n",
              "      <td>0</td>\n",
              "      <td>0</td>\n",
              "    </tr>\n",
              "  </tbody>\n",
              "</table>\n",
              "<p>970 rows × 5 columns</p>\n",
              "</div>"
            ],
            "text/plain": [
              "     disgust  joy  none  sad  surprise\n",
              "0          0    0     1    0         0\n",
              "1          0    1     0    0         0\n",
              "2          0    0     1    0         0\n",
              "3          1    0     0    0         0\n",
              "4          0    0     1    0         0\n",
              "..       ...  ...   ...  ...       ...\n",
              "965        1    0     0    0         0\n",
              "966        1    0     0    0         0\n",
              "967        1    0     0    0         0\n",
              "968        1    0     0    0         0\n",
              "969        1    0     0    0         0\n",
              "\n",
              "[970 rows x 5 columns]"
            ]
          },
          "metadata": {
            "tags": []
          },
          "execution_count": 11
        }
      ]
    },
    {
      "cell_type": "code",
      "metadata": {
        "id": "z4gJURtGT5jM"
      },
      "source": [
        "vocab_size = 1000\r\n",
        "embedding_dim = 100\r\n",
        "max_length = 30\r\n",
        "trunc_type='post'\r\n",
        "oov_tok = \"<OOV>\"\r\n",
        "\r\n",
        "\r\n",
        "from tensorflow.keras.preprocessing.text import Tokenizer\r\n",
        "from tensorflow.keras.preprocessing.sequence import pad_sequences\r\n",
        "\r\n",
        "tokenizer = Tokenizer(num_words = vocab_size, oov_token=oov_tok)\r\n",
        "tokenizer.fit_on_texts(df2.text)\r\n",
        "word_index = tokenizer.word_index\r\n",
        "sequences = tokenizer.texts_to_sequences(df2.text)\r\n",
        "padded = pad_sequences(sequences,maxlen=max_length, padding='post')"
      ],
      "execution_count": null,
      "outputs": []
    },
    {
      "cell_type": "code",
      "metadata": {
        "colab": {
          "base_uri": "https://localhost:8080/"
        },
        "id": "u4jVpkmgUrEl",
        "outputId": "cedc886b-599c-4438-fbf1-477e9f70c07d"
      },
      "source": [
        "model = tf.keras.Sequential([\r\n",
        "    tf.keras.layers.Embedding(vocab_size, embedding_dim, input_length=max_length, trainable=True),\r\n",
        "    tf.keras.layers.Bidirectional(tf.keras.layers.LSTM(300, return_sequences=False)),\r\n",
        "    tf.keras.layers.Dense(y.shape[1], activation='softmax')\r\n",
        "])\r\n",
        "model.compile(loss='categorical_crossentropy',optimizer='adam',metrics=['accuracy'])\r\n",
        "model.summary()\r\n"
      ],
      "execution_count": null,
      "outputs": [
        {
          "output_type": "stream",
          "text": [
            "Model: \"sequential\"\n",
            "_________________________________________________________________\n",
            "Layer (type)                 Output Shape              Param #   \n",
            "=================================================================\n",
            "embedding (Embedding)        (None, 30, 100)           100000    \n",
            "_________________________________________________________________\n",
            "bidirectional (Bidirectional (None, 600)               962400    \n",
            "_________________________________________________________________\n",
            "dense (Dense)                (None, 5)                 3005      \n",
            "=================================================================\n",
            "Total params: 1,065,405\n",
            "Trainable params: 1,065,405\n",
            "Non-trainable params: 0\n",
            "_________________________________________________________________\n"
          ],
          "name": "stdout"
        }
      ]
    },
    {
      "cell_type": "code",
      "metadata": {
        "id": "G4kvY7zyU9Oc"
      },
      "source": [
        "from sklearn.model_selection import train_test_split\r\n",
        "\r\n",
        "X_train, X_test, y_train, y_test = train_test_split(padded, y, test_size=0.2, shuffle=True)"
      ],
      "execution_count": null,
      "outputs": []
    },
    {
      "cell_type": "code",
      "metadata": {
        "colab": {
          "base_uri": "https://localhost:8080/"
        },
        "id": "_oerHukoVGd0",
        "outputId": "b6837217-e3d1-4ac6-d196-59e5e760215a"
      },
      "source": [
        "num_epochs = 30\r\n",
        "history = model.fit(X_train, y_train, epochs=num_epochs, validation_data=(X_test, y_test))"
      ],
      "execution_count": null,
      "outputs": [
        {
          "output_type": "stream",
          "text": [
            "Epoch 1/30\n",
            "25/25 [==============================] - 10s 257ms/step - loss: 1.4332 - accuracy: 0.4585 - val_loss: 1.3032 - val_accuracy: 0.4691\n",
            "Epoch 2/30\n",
            "25/25 [==============================] - 5s 210ms/step - loss: 1.2672 - accuracy: 0.5171 - val_loss: 1.2593 - val_accuracy: 0.4691\n",
            "Epoch 3/30\n",
            "25/25 [==============================] - 5s 208ms/step - loss: 1.2379 - accuracy: 0.4908 - val_loss: 1.1646 - val_accuracy: 0.5103\n",
            "Epoch 4/30\n",
            "25/25 [==============================] - 5s 208ms/step - loss: 1.0578 - accuracy: 0.5701 - val_loss: 1.1463 - val_accuracy: 0.6701\n",
            "Epoch 5/30\n",
            "25/25 [==============================] - 5s 205ms/step - loss: 0.9311 - accuracy: 0.7082 - val_loss: 1.0303 - val_accuracy: 0.6495\n",
            "Epoch 6/30\n",
            "25/25 [==============================] - 5s 206ms/step - loss: 0.7020 - accuracy: 0.7774 - val_loss: 1.0193 - val_accuracy: 0.6237\n",
            "Epoch 7/30\n",
            "25/25 [==============================] - 5s 207ms/step - loss: 0.6264 - accuracy: 0.7768 - val_loss: 1.1195 - val_accuracy: 0.6443\n",
            "Epoch 8/30\n",
            "25/25 [==============================] - 5s 207ms/step - loss: 0.4759 - accuracy: 0.8194 - val_loss: 1.1202 - val_accuracy: 0.6495\n",
            "Epoch 9/30\n",
            "25/25 [==============================] - 5s 202ms/step - loss: 0.4749 - accuracy: 0.8307 - val_loss: 1.2310 - val_accuracy: 0.6598\n",
            "Epoch 10/30\n",
            "25/25 [==============================] - 5s 204ms/step - loss: 0.4200 - accuracy: 0.8405 - val_loss: 1.2848 - val_accuracy: 0.6546\n",
            "Epoch 11/30\n",
            "25/25 [==============================] - 5s 207ms/step - loss: 0.3763 - accuracy: 0.8723 - val_loss: 1.3404 - val_accuracy: 0.6289\n",
            "Epoch 12/30\n",
            "25/25 [==============================] - 5s 207ms/step - loss: 0.3631 - accuracy: 0.8739 - val_loss: 1.3815 - val_accuracy: 0.6443\n",
            "Epoch 13/30\n",
            "25/25 [==============================] - 5s 206ms/step - loss: 0.3165 - accuracy: 0.8855 - val_loss: 1.5139 - val_accuracy: 0.6753\n",
            "Epoch 14/30\n",
            "25/25 [==============================] - 5s 209ms/step - loss: 0.3368 - accuracy: 0.8761 - val_loss: 1.4557 - val_accuracy: 0.6495\n",
            "Epoch 15/30\n",
            "25/25 [==============================] - 5s 207ms/step - loss: 0.3072 - accuracy: 0.8807 - val_loss: 1.6493 - val_accuracy: 0.6392\n",
            "Epoch 16/30\n",
            "25/25 [==============================] - 5s 206ms/step - loss: 0.2994 - accuracy: 0.8700 - val_loss: 1.7401 - val_accuracy: 0.6495\n",
            "Epoch 17/30\n",
            "25/25 [==============================] - 5s 210ms/step - loss: 0.2554 - accuracy: 0.8927 - val_loss: 1.8582 - val_accuracy: 0.6392\n",
            "Epoch 18/30\n",
            "25/25 [==============================] - 5s 211ms/step - loss: 0.2635 - accuracy: 0.8968 - val_loss: 1.8732 - val_accuracy: 0.6443\n",
            "Epoch 19/30\n",
            "25/25 [==============================] - 5s 211ms/step - loss: 0.2423 - accuracy: 0.9091 - val_loss: 2.0180 - val_accuracy: 0.6392\n",
            "Epoch 20/30\n",
            "25/25 [==============================] - 5s 207ms/step - loss: 0.2448 - accuracy: 0.8961 - val_loss: 1.9821 - val_accuracy: 0.6134\n",
            "Epoch 21/30\n",
            "25/25 [==============================] - 5s 215ms/step - loss: 0.2521 - accuracy: 0.8958 - val_loss: 1.8548 - val_accuracy: 0.6443\n",
            "Epoch 22/30\n",
            "25/25 [==============================] - 5s 208ms/step - loss: 0.2176 - accuracy: 0.9009 - val_loss: 1.9933 - val_accuracy: 0.6495\n",
            "Epoch 23/30\n",
            "25/25 [==============================] - 5s 212ms/step - loss: 0.2256 - accuracy: 0.8953 - val_loss: 1.8605 - val_accuracy: 0.6031\n",
            "Epoch 24/30\n",
            "25/25 [==============================] - 5s 205ms/step - loss: 0.1974 - accuracy: 0.9104 - val_loss: 2.0716 - val_accuracy: 0.6340\n",
            "Epoch 25/30\n",
            "25/25 [==============================] - 5s 207ms/step - loss: 0.2398 - accuracy: 0.8825 - val_loss: 2.0797 - val_accuracy: 0.6289\n",
            "Epoch 26/30\n",
            "25/25 [==============================] - 5s 209ms/step - loss: 0.2048 - accuracy: 0.9105 - val_loss: 2.0834 - val_accuracy: 0.6443\n",
            "Epoch 27/30\n",
            "25/25 [==============================] - 5s 210ms/step - loss: 0.1833 - accuracy: 0.9149 - val_loss: 2.2728 - val_accuracy: 0.6495\n",
            "Epoch 28/30\n",
            "25/25 [==============================] - 5s 211ms/step - loss: 0.1974 - accuracy: 0.9022 - val_loss: 2.2675 - val_accuracy: 0.6186\n",
            "Epoch 29/30\n",
            "25/25 [==============================] - 5s 210ms/step - loss: 0.1991 - accuracy: 0.9071 - val_loss: 2.2167 - val_accuracy: 0.6186\n",
            "Epoch 30/30\n",
            "25/25 [==============================] - 5s 211ms/step - loss: 0.1905 - accuracy: 0.9037 - val_loss: 2.3718 - val_accuracy: 0.6134\n"
          ],
          "name": "stdout"
        }
      ]
    },
    {
      "cell_type": "code",
      "metadata": {
        "colab": {
          "base_uri": "https://localhost:8080/"
        },
        "id": "UsD4MwE1VKCU",
        "outputId": "68951756-9a19-4f5a-eae4-523be4e079aa"
      },
      "source": [
        "model.evaluate(X_test, y_test)"
      ],
      "execution_count": null,
      "outputs": [
        {
          "output_type": "stream",
          "text": [
            "7/7 [==============================] - 0s 50ms/step - loss: 2.3718 - accuracy: 0.6134\n"
          ],
          "name": "stdout"
        },
        {
          "output_type": "execute_result",
          "data": {
            "text/plain": [
              "[2.3717663288116455, 0.6134020686149597]"
            ]
          },
          "metadata": {
            "tags": []
          },
          "execution_count": 16
        }
      ]
    },
    {
      "cell_type": "code",
      "metadata": {
        "colab": {
          "base_uri": "https://localhost:8080/"
        },
        "id": "Hl6GXZ7aVc4U",
        "outputId": "a1df5c31-6d7e-4238-8f67-af3a792a3aee"
      },
      "source": [
        "pred = model.predict(X_test)\r\n",
        "\r\n",
        "for i in range(len(pred)):\r\n",
        "  if pred[i][0]==pred[i].max():\r\n",
        "    pred[i][0] = 1\r\n",
        "    pred[i][1] = 0\r\n",
        "    pred[i][2] = 0\r\n",
        "    pred[i][3] = 0\r\n",
        "    pred[i][4] = 0\r\n",
        "    \r\n",
        "  \r\n",
        "  elif pred[i][1]==pred[i].max():\r\n",
        "    pred[i][0] = 0\r\n",
        "    pred[i][1] = 1\r\n",
        "    pred[i][2] = 0\r\n",
        "    pred[i][3] = 0\r\n",
        "    pred[i][4] = 0\r\n",
        "\r\n",
        "  elif pred[i][2]==pred[i].max():\r\n",
        "    pred[i][0] = 0\r\n",
        "    pred[i][1] = 0\r\n",
        "    pred[i][2] = 1\r\n",
        "    pred[i][3] = 0\r\n",
        "    pred[i][4] = 0\r\n",
        "  \r\n",
        "  elif pred[i][3]==pred[i].max():\r\n",
        "    pred[i][0] = 0\r\n",
        "    pred[i][1] = 0\r\n",
        "    pred[i][2] = 0\r\n",
        "    pred[i][3] = 1\r\n",
        "    pred[i][4] = 0\r\n",
        "\r\n",
        "  else:\r\n",
        "    pred[i][0] = 0\r\n",
        "    pred[i][1] = 0\r\n",
        "    pred[i][2] = 0\r\n",
        "    pred[i][3] = 0\r\n",
        "    pred[i][4] = 1\r\n",
        "\r\n",
        "  \r\n",
        "pred[0]"
      ],
      "execution_count": null,
      "outputs": [
        {
          "output_type": "execute_result",
          "data": {
            "text/plain": [
              "array([1., 0., 0., 0., 0.], dtype=float32)"
            ]
          },
          "metadata": {
            "tags": []
          },
          "execution_count": 17
        }
      ]
    },
    {
      "cell_type": "code",
      "metadata": {
        "colab": {
          "base_uri": "https://localhost:8080/"
        },
        "id": "GZ3JU8IOVvnU",
        "outputId": "0a5b93f2-acf9-4730-8920-2cc29fcb5e37"
      },
      "source": [
        "from sklearn.metrics import f1_score\r\n",
        "f1_score(y_test, pred, average='weighted')"
      ],
      "execution_count": null,
      "outputs": [
        {
          "output_type": "execute_result",
          "data": {
            "text/plain": [
              "0.606523902400191"
            ]
          },
          "metadata": {
            "tags": []
          },
          "execution_count": 18
        }
      ]
    },
    {
      "cell_type": "code",
      "metadata": {
        "colab": {
          "base_uri": "https://localhost:8080/"
        },
        "id": "Olv_DSFJVx3c",
        "outputId": "f01244bf-97de-4d17-d0c0-37b1e4763ae2"
      },
      "source": [
        "from sklearn.metrics import accuracy_score\r\n",
        "accuracy_score(y_test, pred)"
      ],
      "execution_count": null,
      "outputs": [
        {
          "output_type": "execute_result",
          "data": {
            "text/plain": [
              "0.6134020618556701"
            ]
          },
          "metadata": {
            "tags": []
          },
          "execution_count": 19
        }
      ]
    },
    {
      "cell_type": "code",
      "metadata": {
        "colab": {
          "base_uri": "https://localhost:8080/"
        },
        "id": "WbI_VtmpV_RD",
        "outputId": "550adc01-7e4d-4ac6-b4c9-34942bba9de0"
      },
      "source": [
        "from sklearn.metrics import classification_report\r\n",
        "print(classification_report(y_test, pred))"
      ],
      "execution_count": null,
      "outputs": [
        {
          "output_type": "stream",
          "text": [
            "              precision    recall  f1-score   support\n",
            "\n",
            "           0       0.68      0.78      0.73        91\n",
            "           1       0.77      0.52      0.62        44\n",
            "           2       0.52      0.57      0.55        40\n",
            "           3       0.14      0.14      0.14         7\n",
            "           4       0.11      0.08      0.10        12\n",
            "\n",
            "   micro avg       0.61      0.61      0.61       194\n",
            "   macro avg       0.45      0.42      0.43       194\n",
            "weighted avg       0.61      0.61      0.61       194\n",
            " samples avg       0.61      0.61      0.61       194\n",
            "\n"
          ],
          "name": "stdout"
        }
      ]
    },
    {
      "cell_type": "code",
      "metadata": {
        "colab": {
          "base_uri": "https://localhost:8080/"
        },
        "id": "VQ26ozlrXhoX",
        "outputId": "e4f72136-62c6-4a26-95db-38cce7663f00"
      },
      "source": [
        "import matplotlib.pyplot as plt\r\n",
        "\r\n",
        "\r\n",
        "def plot_graphs(history, string):\r\n",
        "  plt.plot(history.history[string])\r\n",
        "  plt.plot(history.history['val_'+string])\r\n",
        "  plt.xlabel(\"Epochs\")\r\n",
        "  plt.ylabel(string)\r\n",
        "  plt.legend([string, 'val_'+string])\r\n",
        "  plt.show()\r\n",
        "\r\n",
        "plot_graphs(history, 'accuracy')\r\n",
        "plot_graphs(history, 'loss')"
      ],
      "execution_count": null,
      "outputs": [
        {
          "output_type": "display_data",
          "data": {
            "image/png": "[encoded data removed]",
            "text/plain": [
              "<Figure size 432x288 with 1 Axes>"
            ]
          },
          "metadata": {
            "tags": [],
            "needs_background": "light"
          }
        },
        {
          "output_type": "display_data",
          "data": {
            "image/png": "[encoded data removed]",
            "text/plain": [
              "<Figure size 432x288 with 1 Axes>"
            ]
          },
          "metadata": {
            "tags": [],
            "needs_background": "light"
          }
        }
      ]
    },
    {
      "cell_type": "code",
      "metadata": {
        "id": "a-gqXXstX5VV"
      },
      "source": [
        ""
      ],
      "execution_count": null,
      "outputs": []
    }
  ]
}