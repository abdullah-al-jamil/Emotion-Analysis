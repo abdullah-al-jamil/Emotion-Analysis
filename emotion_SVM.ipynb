{
  "nbformat": 4,
  "nbformat_minor": 0,
  "metadata": {
    "colab": {
      "name": "emotion SVM.ipynb",
      "provenance": [],
      "authorship_tag": "ABX9TyOPfEQ6+oRF4Y6adWLAvzIY",
      "include_colab_link": true
    },
    "kernelspec": {
      "name": "python3",
      "display_name": "Python 3"
    }
  },
  "cells": [
    {
      "cell_type": "markdown",
      "metadata": {
        "id": "view-in-github",
        "colab_type": "text"
      },
      "source": [
        "<a href=\"https://colab.research.google.com/github/abdullah-al-jamil/Emotion-Analysis/blob/main/emotion_SVM.ipynb\" target=\"_parent\"><img src=\"https://colab.research.google.com/assets/colab-badge.svg\" alt=\"Open In Colab\"/></a>"
      ]
    },
    {
      "cell_type": "code",
      "metadata": {
        "id": "NjtKMJxyASVa"
      },
      "source": [
        "try: \r\n",
        "  %tensorflow_version 2.x\r\n",
        "except Exception:\r\n",
        "  pass\r\n",
        "\r\n",
        "import tensorflow as tf\r\n",
        "keras = tf.keras"
      ],
      "execution_count": null,
      "outputs": []
    },
    {
      "cell_type": "code",
      "metadata": {
        "id": "jQAFqjz9AbDA"
      },
      "source": [
        "import gensim, re\r\n",
        "import numpy as np\r\n",
        "import pandas as pd"
      ],
      "execution_count": null,
      "outputs": []
    },
    {
      "cell_type": "code",
      "metadata": {
        "colab": {
          "base_uri": "https://localhost:8080/"
        },
        "id": "noNbNUfEChlu",
        "outputId": "57a2ad4d-6944-42ca-8ddb-cb97639359ca"
      },
      "source": [
        "!wget https://raw.githubusercontent.com/abdullah-al-jamil/Emotion-and-Sentiment-Analysis/main/Emotion.csv -P \"/content/drive/My Drive/app\""
      ],
      "execution_count": null,
      "outputs": [
        {
          "output_type": "stream",
          "text": [
            "--2021-01-11 15:22:29--  https://raw.githubusercontent.com/abdullah-al-jamil/Emotion-and-Sentiment-Analysis/main/Emotion.csv\n",
            "Resolving raw.githubusercontent.com (raw.githubusercontent.com)... 151.101.0.133, 151.101.64.133, 151.101.128.133, ...\n",
            "Connecting to raw.githubusercontent.com (raw.githubusercontent.com)|151.101.0.133|:443... connected.\n",
            "HTTP request sent, awaiting response... 200 OK\n",
            "Length: 389954 (381K) [text/plain]\n",
            "Saving to: ‘/content/drive/My Drive/app/Emotion.csv’\n",
            "\n",
            "\rEmotion.csv           0%[                    ]       0  --.-KB/s               \rEmotion.csv         100%[===================>] 380.81K  --.-KB/s    in 0.02s   \n",
            "\n",
            "2021-01-11 15:22:29 (15.1 MB/s) - ‘/content/drive/My Drive/app/Emotion.csv’ saved [389954/389954]\n",
            "\n"
          ],
          "name": "stdout"
        }
      ]
    },
    {
      "cell_type": "code",
      "metadata": {
        "colab": {
          "base_uri": "https://localhost:8080/",
          "height": 204
        },
        "id": "EAyN4xSLCpft",
        "outputId": "cf62457b-15c8-4323-fcfd-db55e24c666e"
      },
      "source": [
        "df = pd.read_csv('/content/drive/My Drive/app/Emotion.csv', sep=';')\r\n",
        "df.head(5)"
      ],
      "execution_count": null,
      "outputs": [
        {
          "output_type": "execute_result",
          "data": {
            "text/html": [
              "<div>\n",
              "<style scoped>\n",
              "    .dataframe tbody tr th:only-of-type {\n",
              "        vertical-align: middle;\n",
              "    }\n",
              "\n",
              "    .dataframe tbody tr th {\n",
              "        vertical-align: top;\n",
              "    }\n",
              "\n",
              "    .dataframe thead th {\n",
              "        text-align: right;\n",
              "    }\n",
              "</style>\n",
              "<table border=\"1\" class=\"dataframe\">\n",
              "  <thead>\n",
              "    <tr style=\"text-align: right;\">\n",
              "      <th></th>\n",
              "      <th>id</th>\n",
              "      <th>text</th>\n",
              "      <th>emotion</th>\n",
              "      <th>lan</th>\n",
              "      <th>domain</th>\n",
              "    </tr>\n",
              "  </thead>\n",
              "  <tbody>\n",
              "    <tr>\n",
              "      <th>0</th>\n",
              "      <td>2275</td>\n",
              "      <td>Hands down. You are good. I mean smart good.</td>\n",
              "      <td>joy</td>\n",
              "      <td>EN</td>\n",
              "      <td>funny_video</td>\n",
              "    </tr>\n",
              "    <tr>\n",
              "      <th>1</th>\n",
              "      <td>2283</td>\n",
              "      <td>Your are very good. keep it up</td>\n",
              "      <td>none</td>\n",
              "      <td>EN</td>\n",
              "      <td>funny_video</td>\n",
              "    </tr>\n",
              "    <tr>\n",
              "      <th>2</th>\n",
              "      <td>2292</td>\n",
              "      <td>Man!! I will never get used to these videos of...</td>\n",
              "      <td>surprise</td>\n",
              "      <td>EN</td>\n",
              "      <td>funny_video</td>\n",
              "    </tr>\n",
              "    <tr>\n",
              "      <th>3</th>\n",
              "      <td>2293</td>\n",
              "      <td>ডিসলাইক দেয়া 32</td>\n",
              "      <td>none</td>\n",
              "      <td>BN</td>\n",
              "      <td>funny_video</td>\n",
              "    </tr>\n",
              "    <tr>\n",
              "      <th>4</th>\n",
              "      <td>2298</td>\n",
              "      <td>ব্যাপক বিনোদন।</td>\n",
              "      <td>joy</td>\n",
              "      <td>BN</td>\n",
              "      <td>funny_video</td>\n",
              "    </tr>\n",
              "  </tbody>\n",
              "</table>\n",
              "</div>"
            ],
            "text/plain": [
              "     id                                               text  ... lan       domain\n",
              "0  2275       Hands down. You are good. I mean smart good.  ...  EN  funny_video\n",
              "1  2283                     Your are very good. keep it up  ...  EN  funny_video\n",
              "2  2292  Man!! I will never get used to these videos of...  ...  EN  funny_video\n",
              "3  2293                                    ডিসলাইক দেয়া 32  ...  BN  funny_video\n",
              "4  2298                                     ব্যাপক বিনোদন।  ...  BN  funny_video\n",
              "\n",
              "[5 rows x 5 columns]"
            ]
          },
          "metadata": {
            "tags": []
          },
          "execution_count": 4
        }
      ]
    },
    {
      "cell_type": "code",
      "metadata": {
        "colab": {
          "base_uri": "https://localhost:8080/"
        },
        "id": "WB_y2mgQCsdl",
        "outputId": "d2d763d0-c38c-445b-ff21-7e1866e70b1d"
      },
      "source": [
        "df1 = df[df.lan=='BN']\r\n",
        "len(df1)"
      ],
      "execution_count": null,
      "outputs": [
        {
          "output_type": "execute_result",
          "data": {
            "text/plain": [
              "1006"
            ]
          },
          "metadata": {
            "tags": []
          },
          "execution_count": 5
        }
      ]
    },
    {
      "cell_type": "code",
      "metadata": {
        "colab": {
          "base_uri": "https://localhost:8080/"
        },
        "id": "K4SGizo3Cvq9",
        "outputId": "fabc52bf-ef07-422a-dec4-268145c74cdf"
      },
      "source": [
        "!wget https://raw.githubusercontent.com/abdullah-al-jamil/Emotion-and-Sentiment-Analysis/main/stop_words.txt -P \"/content/drive/My Drive/app\"\r\n",
        "with open('/content/drive/My Drive/app/stop_words.txt', \"r\") as file1:\r\n",
        "    stopwords = file1.read()"
      ],
      "execution_count": null,
      "outputs": [
        {
          "output_type": "stream",
          "text": [
            "--2021-01-11 15:25:51--  https://raw.githubusercontent.com/abdullah-al-jamil/Emotion-and-Sentiment-Analysis/main/stop_words.txt\n",
            "Resolving raw.githubusercontent.com (raw.githubusercontent.com)... 151.101.0.133, 151.101.64.133, 151.101.128.133, ...\n",
            "Connecting to raw.githubusercontent.com (raw.githubusercontent.com)|151.101.0.133|:443... connected.\n",
            "HTTP request sent, awaiting response... 200 OK\n",
            "Length: 10442 (10K) [text/plain]\n",
            "Saving to: ‘/content/drive/My Drive/app/stop_words.txt’\n",
            "\n",
            "\rstop_words.txt        0%[                    ]       0  --.-KB/s               \rstop_words.txt      100%[===================>]  10.20K  --.-KB/s    in 0s      \n",
            "\n",
            "2021-01-11 15:25:51 (109 MB/s) - ‘/content/drive/My Drive/app/stop_words.txt’ saved [10442/10442]\n",
            "\n"
          ],
          "name": "stdout"
        }
      ]
    },
    {
      "cell_type": "code",
      "metadata": {
        "colab": {
          "base_uri": "https://localhost:8080/",
          "height": 289
        },
        "id": "XOTu-XrlDa7m",
        "outputId": "261317e1-6b3d-4e64-fb5c-0dcbca1978dd"
      },
      "source": [
        "def pre_process(sentence):\r\n",
        "  #remove link\r\n",
        "  sentence = re.sub(r'https?:\\/\\/.*[\\r\\n]*', '', sentence)\r\n",
        "  sentence = re.sub(r'[^\\u0980-\\u09FF ]+', '', sentence)\r\n",
        "  words = sentence.split()\r\n",
        "  new_sentence = ''\r\n",
        "\r\n",
        "  for word in words:\r\n",
        "    if word not in stopwords:\r\n",
        "      new_sentence += (word + \" \")\r\n",
        "  return new_sentence\r\n",
        "\r\n",
        "sentences = []\r\n",
        "temp_sentences = df1['text']\r\n",
        "\r\n",
        "for i in temp_sentences:\r\n",
        "  sentences.append(pre_process(i))\r\n",
        "\r\n",
        "df1['text'] = sentences\r\n",
        "df1.head()\r\n"
      ],
      "execution_count": null,
      "outputs": [
        {
          "output_type": "stream",
          "text": [
            "/usr/local/lib/python3.6/dist-packages/ipykernel_launcher.py:19: SettingWithCopyWarning: \n",
            "A value is trying to be set on a copy of a slice from a DataFrame.\n",
            "Try using .loc[row_indexer,col_indexer] = value instead\n",
            "\n",
            "See the caveats in the documentation: https://pandas.pydata.org/pandas-docs/stable/user_guide/indexing.html#returning-a-view-versus-a-copy\n"
          ],
          "name": "stderr"
        },
        {
          "output_type": "execute_result",
          "data": {
            "text/html": [
              "<div>\n",
              "<style scoped>\n",
              "    .dataframe tbody tr th:only-of-type {\n",
              "        vertical-align: middle;\n",
              "    }\n",
              "\n",
              "    .dataframe tbody tr th {\n",
              "        vertical-align: top;\n",
              "    }\n",
              "\n",
              "    .dataframe thead th {\n",
              "        text-align: right;\n",
              "    }\n",
              "</style>\n",
              "<table border=\"1\" class=\"dataframe\">\n",
              "  <thead>\n",
              "    <tr style=\"text-align: right;\">\n",
              "      <th></th>\n",
              "      <th>id</th>\n",
              "      <th>text</th>\n",
              "      <th>emotion</th>\n",
              "      <th>lan</th>\n",
              "      <th>domain</th>\n",
              "    </tr>\n",
              "  </thead>\n",
              "  <tbody>\n",
              "    <tr>\n",
              "      <th>3</th>\n",
              "      <td>2293</td>\n",
              "      <td>ডিসলাইক দেয়া</td>\n",
              "      <td>none</td>\n",
              "      <td>BN</td>\n",
              "      <td>funny_video</td>\n",
              "    </tr>\n",
              "    <tr>\n",
              "      <th>4</th>\n",
              "      <td>2298</td>\n",
              "      <td>ব্যাপক বিনোদন</td>\n",
              "      <td>joy</td>\n",
              "      <td>BN</td>\n",
              "      <td>funny_video</td>\n",
              "    </tr>\n",
              "    <tr>\n",
              "      <th>8</th>\n",
              "      <td>2312</td>\n",
              "      <td>খারাপ থাকলেই ঢুকে পরি চ্যানেলে</td>\n",
              "      <td>none</td>\n",
              "      <td>BN</td>\n",
              "      <td>funny_video</td>\n",
              "    </tr>\n",
              "    <tr>\n",
              "      <th>13</th>\n",
              "      <td>2421</td>\n",
              "      <td>কন্টেন্ট ক্রিয়েটর একটা প্রজেক্ট টাইম এফোর্ট এক...</td>\n",
              "      <td>disgust</td>\n",
              "      <td>BN</td>\n",
              "      <td>funny_video</td>\n",
              "    </tr>\n",
              "    <tr>\n",
              "      <th>14</th>\n",
              "      <td>2423</td>\n",
              "      <td>জাতি</td>\n",
              "      <td>none</td>\n",
              "      <td>BN</td>\n",
              "      <td>funny_video</td>\n",
              "    </tr>\n",
              "  </tbody>\n",
              "</table>\n",
              "</div>"
            ],
            "text/plain": [
              "      id                                               text  ... lan       domain\n",
              "3   2293                                      ডিসলাইক দেয়া   ...  BN  funny_video\n",
              "4   2298                                     ব্যাপক বিনোদন   ...  BN  funny_video\n",
              "8   2312                    খারাপ থাকলেই ঢুকে পরি চ্যানেলে   ...  BN  funny_video\n",
              "13  2421  কন্টেন্ট ক্রিয়েটর একটা প্রজেক্ট টাইম এফোর্ট এক...  ...  BN  funny_video\n",
              "14  2423                                              জাতি   ...  BN  funny_video\n",
              "\n",
              "[5 rows x 5 columns]"
            ]
          },
          "metadata": {
            "tags": []
          },
          "execution_count": 7
        }
      ]
    },
    {
      "cell_type": "code",
      "metadata": {
        "colab": {
          "base_uri": "https://localhost:8080/"
        },
        "id": "GBhy9PeSEEI-",
        "outputId": "64c3f445-7d13-4c09-a8fc-1f373c043828"
      },
      "source": [
        "df1['emotion'] = np.where(df1['emotion']=='anger', 'disgust',  df1['emotion'])\r\n",
        "df1['emotion'] = np.where(df1['emotion']=='fear', 'surprise',  df1['emotion'])\r\n",
        "df1['emotion'] = np.where(df1['emotion']=='others', 'none',  df1['emotion'])"
      ],
      "execution_count": null,
      "outputs": [
        {
          "output_type": "stream",
          "text": [
            "/usr/local/lib/python3.6/dist-packages/ipykernel_launcher.py:1: SettingWithCopyWarning: \n",
            "A value is trying to be set on a copy of a slice from a DataFrame.\n",
            "Try using .loc[row_indexer,col_indexer] = value instead\n",
            "\n",
            "See the caveats in the documentation: https://pandas.pydata.org/pandas-docs/stable/user_guide/indexing.html#returning-a-view-versus-a-copy\n",
            "  \"\"\"Entry point for launching an IPython kernel.\n",
            "/usr/local/lib/python3.6/dist-packages/ipykernel_launcher.py:2: SettingWithCopyWarning: \n",
            "A value is trying to be set on a copy of a slice from a DataFrame.\n",
            "Try using .loc[row_indexer,col_indexer] = value instead\n",
            "\n",
            "See the caveats in the documentation: https://pandas.pydata.org/pandas-docs/stable/user_guide/indexing.html#returning-a-view-versus-a-copy\n",
            "  \n",
            "/usr/local/lib/python3.6/dist-packages/ipykernel_launcher.py:3: SettingWithCopyWarning: \n",
            "A value is trying to be set on a copy of a slice from a DataFrame.\n",
            "Try using .loc[row_indexer,col_indexer] = value instead\n",
            "\n",
            "See the caveats in the documentation: https://pandas.pydata.org/pandas-docs/stable/user_guide/indexing.html#returning-a-view-versus-a-copy\n",
            "  This is separate from the ipykernel package so we can avoid doing imports until\n"
          ],
          "name": "stderr"
        }
      ]
    },
    {
      "cell_type": "code",
      "metadata": {
        "id": "3wWKo5oKDfC9"
      },
      "source": [
        "labels = []\r\n",
        "for i in df1['emotion']:\r\n",
        "  labels.append(i)\r\n",
        "\r\n",
        "y = np.array(labels)"
      ],
      "execution_count": null,
      "outputs": []
    },
    {
      "cell_type": "code",
      "metadata": {
        "colab": {
          "base_uri": "https://localhost:8080/"
        },
        "id": "OoV5B6fODlRl",
        "outputId": "0f8a04b8-e27f-46b0-e145-8351fc25f52f"
      },
      "source": [
        "\r\n",
        "from sklearn.feature_extraction.text import TfidfVectorizer\r\n",
        "TV = TfidfVectorizer(min_df=3)   \r\n",
        "X = TV.fit_transform(sentences).toarray()\r\n",
        "\r\n",
        "print(np.shape(X))\r\n",
        "print(np.shape(y))\r\n"
      ],
      "execution_count": null,
      "outputs": [
        {
          "output_type": "stream",
          "text": [
            "(1006, 386)\n",
            "(1006,)\n"
          ],
          "name": "stdout"
        }
      ]
    },
    {
      "cell_type": "code",
      "metadata": {
        "id": "VNQHgo44DoZd"
      },
      "source": [
        "from sklearn.model_selection import train_test_split\r\n",
        "\r\n",
        "X_train, X_test, y_train, y_test = train_test_split(X, y, test_size=0.2, shuffle=True)"
      ],
      "execution_count": null,
      "outputs": []
    },
    {
      "cell_type": "code",
      "metadata": {
        "colab": {
          "base_uri": "https://localhost:8080/"
        },
        "id": "qyA1pImTDz9t",
        "outputId": "7b931a23-d074-4de0-cc4a-874cd3e242a7"
      },
      "source": [
        "\r\n",
        "from sklearn.svm import SVC\r\n",
        "model = SVC()\r\n",
        "#from sklearn.naive_bayes import GaussianNB\r\n",
        "#model = GaussianNB()\r\n",
        "model.fit(X_train,y_train)\r\n",
        "\r\n",
        "y_pred = model.predict(X_test)\r\n",
        "\r\n",
        "from sklearn.metrics import accuracy_score, f1_score, precision_score\r\n",
        "print(accuracy_score(y_test, y_pred))"
      ],
      "execution_count": null,
      "outputs": [
        {
          "output_type": "stream",
          "text": [
            "0.599009900990099\n"
          ],
          "name": "stdout"
        }
      ]
    },
    {
      "cell_type": "code",
      "metadata": {
        "colab": {
          "base_uri": "https://localhost:8080/"
        },
        "id": "UPQX9rW7D3fl",
        "outputId": "696f0545-ace1-4eda-f145-835efb538c4a"
      },
      "source": [
        "pred = model.predict(X_test)\r\n",
        "f1_score(y_test, pred, average='weighted')"
      ],
      "execution_count": null,
      "outputs": [
        {
          "output_type": "execute_result",
          "data": {
            "text/plain": [
              "0.5310477476319061"
            ]
          },
          "metadata": {
            "tags": []
          },
          "execution_count": 17
        }
      ]
    },
    {
      "cell_type": "code",
      "metadata": {
        "id": "VylW-PB3EMzF"
      },
      "source": [
        ""
      ],
      "execution_count": null,
      "outputs": []
    }
  ]
}