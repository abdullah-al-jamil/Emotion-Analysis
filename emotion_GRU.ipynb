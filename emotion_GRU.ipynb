{
  "nbformat": 4,
  "nbformat_minor": 0,
  "metadata": {
    "colab": {
      "name": "emotion GRU.ipynb",
      "provenance": [],
      "collapsed_sections": [],
      "authorship_tag": "ABX9TyN4Qu8pe7vDTZsXeUEXZDmo",
      "include_colab_link": true
    },
    "kernelspec": {
      "name": "python3",
      "display_name": "Python 3"
    }
  },
  "cells": [
    {
      "cell_type": "markdown",
      "metadata": {
        "id": "view-in-github",
        "colab_type": "text"
      },
      "source": [
        "<a href=\"https://colab.research.google.com/github/abdullah-al-jamil/Emotion-and-Sentiment-Analysis/blob/main/emotion_GRU.ipynb\" target=\"_parent\"><img src=\"https://colab.research.google.com/assets/colab-badge.svg\" alt=\"Open In Colab\"/></a>"
      ]
    },
    {
      "cell_type": "code",
      "metadata": {
        "id": "Rlwpk7g_2x5m"
      },
      "source": [
        "try: \r\n",
        "  %tensorflow_version 2.x\r\n",
        "except Exception:\r\n",
        "  pass\r\n",
        "\r\n",
        "import tensorflow as tf\r\n",
        "keras = tf.keras"
      ],
      "execution_count": null,
      "outputs": []
    },
    {
      "cell_type": "code",
      "metadata": {
        "id": "yXVBrgBG24Zz"
      },
      "source": [
        "import gensim, re\r\n",
        "import numpy as np\r\n",
        "import pandas as pd"
      ],
      "execution_count": null,
      "outputs": []
    },
    {
      "cell_type": "code",
      "metadata": {
        "colab": {
          "base_uri": "https://localhost:8080/"
        },
        "id": "4gyWu47_26Je",
        "outputId": "719d353d-cd3f-4fa8-fa0c-3afbc282a25f"
      },
      "source": [
        "!wget https://raw.githubusercontent.com/abdullah-al-jamil/Emotion-and-Sentiment-Analysis/main/Emotion.csv -P \"/content/drive/My Drive/app\""
      ],
      "execution_count": null,
      "outputs": [
        {
          "output_type": "stream",
          "text": [
            "--2021-02-13 16:01:53--  https://raw.githubusercontent.com/abdullah-al-jamil/Emotion-and-Sentiment-Analysis/main/Emotion.csv\n",
            "Resolving raw.githubusercontent.com (raw.githubusercontent.com)... 185.199.108.133, 185.199.109.133, 185.199.110.133, ...\n",
            "Connecting to raw.githubusercontent.com (raw.githubusercontent.com)|185.199.108.133|:443... connected.\n",
            "HTTP request sent, awaiting response... 200 OK\n",
            "Length: 389954 (381K) [text/plain]\n",
            "Saving to: ‘/content/drive/My Drive/app/Emotion.csv.1’\n",
            "\n",
            "Emotion.csv.1       100%[===================>] 380.81K  --.-KB/s    in 0.04s   \n",
            "\n",
            "2021-02-13 16:01:55 (8.33 MB/s) - ‘/content/drive/My Drive/app/Emotion.csv.1’ saved [389954/389954]\n",
            "\n"
          ],
          "name": "stdout"
        }
      ]
    },
    {
      "cell_type": "code",
      "metadata": {
        "colab": {
          "base_uri": "https://localhost:8080/",
          "height": 204
        },
        "id": "-cI7jLPz28tP",
        "outputId": "efde2100-c0d2-41db-ed05-777ccd553ddc"
      },
      "source": [
        "df = pd.read_csv('/content/drive/My Drive/app/Emotion.csv', sep=';')\r\n",
        "df.head(5)"
      ],
      "execution_count": null,
      "outputs": [
        {
          "output_type": "execute_result",
          "data": {
            "text/html": [
              "<div>\n",
              "<style scoped>\n",
              "    .dataframe tbody tr th:only-of-type {\n",
              "        vertical-align: middle;\n",
              "    }\n",
              "\n",
              "    .dataframe tbody tr th {\n",
              "        vertical-align: top;\n",
              "    }\n",
              "\n",
              "    .dataframe thead th {\n",
              "        text-align: right;\n",
              "    }\n",
              "</style>\n",
              "<table border=\"1\" class=\"dataframe\">\n",
              "  <thead>\n",
              "    <tr style=\"text-align: right;\">\n",
              "      <th></th>\n",
              "      <th>id</th>\n",
              "      <th>text</th>\n",
              "      <th>emotion</th>\n",
              "      <th>lan</th>\n",
              "      <th>domain</th>\n",
              "    </tr>\n",
              "  </thead>\n",
              "  <tbody>\n",
              "    <tr>\n",
              "      <th>0</th>\n",
              "      <td>2275</td>\n",
              "      <td>Hands down. You are good. I mean smart good.</td>\n",
              "      <td>joy</td>\n",
              "      <td>EN</td>\n",
              "      <td>funny_video</td>\n",
              "    </tr>\n",
              "    <tr>\n",
              "      <th>1</th>\n",
              "      <td>2283</td>\n",
              "      <td>Your are very good. keep it up</td>\n",
              "      <td>none</td>\n",
              "      <td>EN</td>\n",
              "      <td>funny_video</td>\n",
              "    </tr>\n",
              "    <tr>\n",
              "      <th>2</th>\n",
              "      <td>2292</td>\n",
              "      <td>Man!! I will never get used to these videos of...</td>\n",
              "      <td>surprise</td>\n",
              "      <td>EN</td>\n",
              "      <td>funny_video</td>\n",
              "    </tr>\n",
              "    <tr>\n",
              "      <th>3</th>\n",
              "      <td>2293</td>\n",
              "      <td>ডিসলাইক দেয়া 32</td>\n",
              "      <td>none</td>\n",
              "      <td>BN</td>\n",
              "      <td>funny_video</td>\n",
              "    </tr>\n",
              "    <tr>\n",
              "      <th>4</th>\n",
              "      <td>2298</td>\n",
              "      <td>ব্যাপক বিনোদন।</td>\n",
              "      <td>joy</td>\n",
              "      <td>BN</td>\n",
              "      <td>funny_video</td>\n",
              "    </tr>\n",
              "  </tbody>\n",
              "</table>\n",
              "</div>"
            ],
            "text/plain": [
              "     id                                               text  ... lan       domain\n",
              "0  2275       Hands down. You are good. I mean smart good.  ...  EN  funny_video\n",
              "1  2283                     Your are very good. keep it up  ...  EN  funny_video\n",
              "2  2292  Man!! I will never get used to these videos of...  ...  EN  funny_video\n",
              "3  2293                                    ডিসলাইক দেয়া 32  ...  BN  funny_video\n",
              "4  2298                                     ব্যাপক বিনোদন।  ...  BN  funny_video\n",
              "\n",
              "[5 rows x 5 columns]"
            ]
          },
          "metadata": {
            "tags": []
          },
          "execution_count": 25
        }
      ]
    },
    {
      "cell_type": "code",
      "metadata": {
        "colab": {
          "base_uri": "https://localhost:8080/"
        },
        "id": "4F9VkqtN2_fY",
        "outputId": "07b3e527-326a-4708-d658-e2f6799b928f"
      },
      "source": [
        "df1 = df[df.lan=='BN']\r\n",
        "len(df1)"
      ],
      "execution_count": null,
      "outputs": [
        {
          "output_type": "execute_result",
          "data": {
            "text/plain": [
              "1006"
            ]
          },
          "metadata": {
            "tags": []
          },
          "execution_count": 26
        }
      ]
    },
    {
      "cell_type": "code",
      "metadata": {
        "colab": {
          "base_uri": "https://localhost:8080/"
        },
        "id": "8vdFtGbP3BqX",
        "outputId": "b8fecc31-ab3d-43ab-e838-667f3791cd44"
      },
      "source": [
        "!wget https://raw.githubusercontent.com/abdullah-al-jamil/Emotion-and-Sentiment-Analysis/main/stop_words.txt -P \"/content/drive/My Drive/app\"\r\n",
        "with open('/content/drive/My Drive/app/stop_words.txt', \"r\") as file1:\r\n",
        "    stopwords = file1.read()"
      ],
      "execution_count": null,
      "outputs": [
        {
          "output_type": "stream",
          "text": [
            "--2021-02-13 16:01:55--  https://raw.githubusercontent.com/abdullah-al-jamil/Emotion-and-Sentiment-Analysis/main/stop_words.txt\n",
            "Resolving raw.githubusercontent.com (raw.githubusercontent.com)... 185.199.108.133, 185.199.109.133, 185.199.110.133, ...\n",
            "Connecting to raw.githubusercontent.com (raw.githubusercontent.com)|185.199.108.133|:443... connected.\n",
            "HTTP request sent, awaiting response... 200 OK\n",
            "Length: 10442 (10K) [text/plain]\n",
            "Saving to: ‘/content/drive/My Drive/app/stop_words.txt.1’\n",
            "\n",
            "stop_words.txt.1    100%[===================>]  10.20K  --.-KB/s    in 0s      \n",
            "\n",
            "2021-02-13 16:01:56 (87.1 MB/s) - ‘/content/drive/My Drive/app/stop_words.txt.1’ saved [10442/10442]\n",
            "\n"
          ],
          "name": "stdout"
        }
      ]
    },
    {
      "cell_type": "code",
      "metadata": {
        "colab": {
          "base_uri": "https://localhost:8080/",
          "height": 289
        },
        "id": "HJqSX1aL3Eln",
        "outputId": "2b74d4cc-24fe-480c-d5c6-2db7144a678f"
      },
      "source": [
        "def pre_process(sentence):\r\n",
        "  #remove link\r\n",
        "  sentence = re.sub(r'https?:\\/\\/.*[\\r\\n]*', '', sentence)\r\n",
        "  sentence = re.sub(r'[^\\u0980-\\u09FF ]+', '', sentence)\r\n",
        "  words = sentence.split()\r\n",
        "  new_sentence = ''\r\n",
        "\r\n",
        "  for word in words:\r\n",
        "    if word not in stopwords:\r\n",
        "      new_sentence += (word + \" \")\r\n",
        "  return new_sentence\r\n",
        "\r\n",
        "sentences = []\r\n",
        "temp_sentences = df1['text']\r\n",
        "\r\n",
        "for i in temp_sentences:\r\n",
        "  sentences.append(pre_process(i))\r\n",
        "\r\n",
        "df1['text'] = sentences\r\n",
        "df1.head()\r\n"
      ],
      "execution_count": null,
      "outputs": [
        {
          "output_type": "stream",
          "text": [
            "/usr/local/lib/python3.6/dist-packages/ipykernel_launcher.py:19: SettingWithCopyWarning: \n",
            "A value is trying to be set on a copy of a slice from a DataFrame.\n",
            "Try using .loc[row_indexer,col_indexer] = value instead\n",
            "\n",
            "See the caveats in the documentation: https://pandas.pydata.org/pandas-docs/stable/user_guide/indexing.html#returning-a-view-versus-a-copy\n"
          ],
          "name": "stderr"
        },
        {
          "output_type": "execute_result",
          "data": {
            "text/html": [
              "<div>\n",
              "<style scoped>\n",
              "    .dataframe tbody tr th:only-of-type {\n",
              "        vertical-align: middle;\n",
              "    }\n",
              "\n",
              "    .dataframe tbody tr th {\n",
              "        vertical-align: top;\n",
              "    }\n",
              "\n",
              "    .dataframe thead th {\n",
              "        text-align: right;\n",
              "    }\n",
              "</style>\n",
              "<table border=\"1\" class=\"dataframe\">\n",
              "  <thead>\n",
              "    <tr style=\"text-align: right;\">\n",
              "      <th></th>\n",
              "      <th>id</th>\n",
              "      <th>text</th>\n",
              "      <th>emotion</th>\n",
              "      <th>lan</th>\n",
              "      <th>domain</th>\n",
              "    </tr>\n",
              "  </thead>\n",
              "  <tbody>\n",
              "    <tr>\n",
              "      <th>3</th>\n",
              "      <td>2293</td>\n",
              "      <td>ডিসলাইক দেয়া</td>\n",
              "      <td>none</td>\n",
              "      <td>BN</td>\n",
              "      <td>funny_video</td>\n",
              "    </tr>\n",
              "    <tr>\n",
              "      <th>4</th>\n",
              "      <td>2298</td>\n",
              "      <td>ব্যাপক বিনোদন</td>\n",
              "      <td>joy</td>\n",
              "      <td>BN</td>\n",
              "      <td>funny_video</td>\n",
              "    </tr>\n",
              "    <tr>\n",
              "      <th>8</th>\n",
              "      <td>2312</td>\n",
              "      <td>খারাপ থাকলেই ঢুকে পরি চ্যানেলে</td>\n",
              "      <td>none</td>\n",
              "      <td>BN</td>\n",
              "      <td>funny_video</td>\n",
              "    </tr>\n",
              "    <tr>\n",
              "      <th>13</th>\n",
              "      <td>2421</td>\n",
              "      <td>কন্টেন্ট ক্রিয়েটর একটা প্রজেক্ট টাইম এফোর্ট এক...</td>\n",
              "      <td>disgust</td>\n",
              "      <td>BN</td>\n",
              "      <td>funny_video</td>\n",
              "    </tr>\n",
              "    <tr>\n",
              "      <th>14</th>\n",
              "      <td>2423</td>\n",
              "      <td>জাতি</td>\n",
              "      <td>none</td>\n",
              "      <td>BN</td>\n",
              "      <td>funny_video</td>\n",
              "    </tr>\n",
              "  </tbody>\n",
              "</table>\n",
              "</div>"
            ],
            "text/plain": [
              "      id                                               text  ... lan       domain\n",
              "3   2293                                      ডিসলাইক দেয়া   ...  BN  funny_video\n",
              "4   2298                                     ব্যাপক বিনোদন   ...  BN  funny_video\n",
              "8   2312                    খারাপ থাকলেই ঢুকে পরি চ্যানেলে   ...  BN  funny_video\n",
              "13  2421  কন্টেন্ট ক্রিয়েটর একটা প্রজেক্ট টাইম এফোর্ট এক...  ...  BN  funny_video\n",
              "14  2423                                              জাতি   ...  BN  funny_video\n",
              "\n",
              "[5 rows x 5 columns]"
            ]
          },
          "metadata": {
            "tags": []
          },
          "execution_count": 28
        }
      ]
    },
    {
      "cell_type": "code",
      "metadata": {
        "colab": {
          "base_uri": "https://localhost:8080/"
        },
        "id": "RgnV1j_w3KX3",
        "outputId": "7f12f58b-56b3-45c1-e8b1-a590561521a5"
      },
      "source": [
        "df1['emotion'] = np.where(df1['emotion']=='anger', 'disgust',  df1['emotion'])\r\n",
        "df1['emotion'] = np.where(df1['emotion']=='fear', 'surprise',  df1['emotion'])\r\n",
        "df1['emotion'] = np.where(df1['emotion']=='others', 'none',  df1['emotion'])"
      ],
      "execution_count": null,
      "outputs": [
        {
          "output_type": "stream",
          "text": [
            "/usr/local/lib/python3.6/dist-packages/ipykernel_launcher.py:1: SettingWithCopyWarning: \n",
            "A value is trying to be set on a copy of a slice from a DataFrame.\n",
            "Try using .loc[row_indexer,col_indexer] = value instead\n",
            "\n",
            "See the caveats in the documentation: https://pandas.pydata.org/pandas-docs/stable/user_guide/indexing.html#returning-a-view-versus-a-copy\n",
            "  \"\"\"Entry point for launching an IPython kernel.\n",
            "/usr/local/lib/python3.6/dist-packages/ipykernel_launcher.py:2: SettingWithCopyWarning: \n",
            "A value is trying to be set on a copy of a slice from a DataFrame.\n",
            "Try using .loc[row_indexer,col_indexer] = value instead\n",
            "\n",
            "See the caveats in the documentation: https://pandas.pydata.org/pandas-docs/stable/user_guide/indexing.html#returning-a-view-versus-a-copy\n",
            "  \n",
            "/usr/local/lib/python3.6/dist-packages/ipykernel_launcher.py:3: SettingWithCopyWarning: \n",
            "A value is trying to be set on a copy of a slice from a DataFrame.\n",
            "Try using .loc[row_indexer,col_indexer] = value instead\n",
            "\n",
            "See the caveats in the documentation: https://pandas.pydata.org/pandas-docs/stable/user_guide/indexing.html#returning-a-view-versus-a-copy\n",
            "  This is separate from the ipykernel package so we can avoid doing imports until\n"
          ],
          "name": "stderr"
        }
      ]
    },
    {
      "cell_type": "code",
      "metadata": {
        "colab": {
          "base_uri": "https://localhost:8080/"
        },
        "id": "QepCwYX03Op_",
        "outputId": "75019f88-755d-4620-cde3-cdab3f596cab"
      },
      "source": [
        "fisible = []\r\n",
        "for sentence in sentences:\r\n",
        "  if len(sentence.split())<=30:\r\n",
        "    fisible.append(1)\r\n",
        "  else:\r\n",
        "    fisible.append(0)\r\n",
        "\r\n",
        "df1['fisible'] = fisible\r\n",
        "len(df1)"
      ],
      "execution_count": null,
      "outputs": [
        {
          "output_type": "stream",
          "text": [
            "/usr/local/lib/python3.6/dist-packages/ipykernel_launcher.py:8: SettingWithCopyWarning: \n",
            "A value is trying to be set on a copy of a slice from a DataFrame.\n",
            "Try using .loc[row_indexer,col_indexer] = value instead\n",
            "\n",
            "See the caveats in the documentation: https://pandas.pydata.org/pandas-docs/stable/user_guide/indexing.html#returning-a-view-versus-a-copy\n",
            "  \n"
          ],
          "name": "stderr"
        },
        {
          "output_type": "execute_result",
          "data": {
            "text/plain": [
              "1006"
            ]
          },
          "metadata": {
            "tags": []
          },
          "execution_count": 30
        }
      ]
    },
    {
      "cell_type": "code",
      "metadata": {
        "colab": {
          "base_uri": "https://localhost:8080/"
        },
        "id": "n1iOBCGU3SEv",
        "outputId": "61799229-5f0e-469c-b287-2bdefab10682"
      },
      "source": [
        "df2 = df1[df1.fisible==1]\r\n",
        "len(df1)"
      ],
      "execution_count": null,
      "outputs": [
        {
          "output_type": "execute_result",
          "data": {
            "text/plain": [
              "1006"
            ]
          },
          "metadata": {
            "tags": []
          },
          "execution_count": 31
        }
      ]
    },
    {
      "cell_type": "code",
      "metadata": {
        "colab": {
          "base_uri": "https://localhost:8080/",
          "height": 419
        },
        "id": "A2w77l4O3VVv",
        "outputId": "2231947b-3616-4cab-bfa6-69c4688123b5"
      },
      "source": [
        "labels = []\r\n",
        "for i in df2['emotion']:\r\n",
        "  labels.append(i)\r\n",
        "\r\n",
        "y = np.asarray(pd.get_dummies(labels))\r\n",
        "pd.get_dummies(labels)\r\n"
      ],
      "execution_count": null,
      "outputs": [
        {
          "output_type": "execute_result",
          "data": {
            "text/html": [
              "<div>\n",
              "<style scoped>\n",
              "    .dataframe tbody tr th:only-of-type {\n",
              "        vertical-align: middle;\n",
              "    }\n",
              "\n",
              "    .dataframe tbody tr th {\n",
              "        vertical-align: top;\n",
              "    }\n",
              "\n",
              "    .dataframe thead th {\n",
              "        text-align: right;\n",
              "    }\n",
              "</style>\n",
              "<table border=\"1\" class=\"dataframe\">\n",
              "  <thead>\n",
              "    <tr style=\"text-align: right;\">\n",
              "      <th></th>\n",
              "      <th>disgust</th>\n",
              "      <th>joy</th>\n",
              "      <th>none</th>\n",
              "      <th>sad</th>\n",
              "      <th>surprise</th>\n",
              "    </tr>\n",
              "  </thead>\n",
              "  <tbody>\n",
              "    <tr>\n",
              "      <th>0</th>\n",
              "      <td>0</td>\n",
              "      <td>0</td>\n",
              "      <td>1</td>\n",
              "      <td>0</td>\n",
              "      <td>0</td>\n",
              "    </tr>\n",
              "    <tr>\n",
              "      <th>1</th>\n",
              "      <td>0</td>\n",
              "      <td>1</td>\n",
              "      <td>0</td>\n",
              "      <td>0</td>\n",
              "      <td>0</td>\n",
              "    </tr>\n",
              "    <tr>\n",
              "      <th>2</th>\n",
              "      <td>0</td>\n",
              "      <td>0</td>\n",
              "      <td>1</td>\n",
              "      <td>0</td>\n",
              "      <td>0</td>\n",
              "    </tr>\n",
              "    <tr>\n",
              "      <th>3</th>\n",
              "      <td>1</td>\n",
              "      <td>0</td>\n",
              "      <td>0</td>\n",
              "      <td>0</td>\n",
              "      <td>0</td>\n",
              "    </tr>\n",
              "    <tr>\n",
              "      <th>4</th>\n",
              "      <td>0</td>\n",
              "      <td>0</td>\n",
              "      <td>1</td>\n",
              "      <td>0</td>\n",
              "      <td>0</td>\n",
              "    </tr>\n",
              "    <tr>\n",
              "      <th>...</th>\n",
              "      <td>...</td>\n",
              "      <td>...</td>\n",
              "      <td>...</td>\n",
              "      <td>...</td>\n",
              "      <td>...</td>\n",
              "    </tr>\n",
              "    <tr>\n",
              "      <th>965</th>\n",
              "      <td>1</td>\n",
              "      <td>0</td>\n",
              "      <td>0</td>\n",
              "      <td>0</td>\n",
              "      <td>0</td>\n",
              "    </tr>\n",
              "    <tr>\n",
              "      <th>966</th>\n",
              "      <td>1</td>\n",
              "      <td>0</td>\n",
              "      <td>0</td>\n",
              "      <td>0</td>\n",
              "      <td>0</td>\n",
              "    </tr>\n",
              "    <tr>\n",
              "      <th>967</th>\n",
              "      <td>1</td>\n",
              "      <td>0</td>\n",
              "      <td>0</td>\n",
              "      <td>0</td>\n",
              "      <td>0</td>\n",
              "    </tr>\n",
              "    <tr>\n",
              "      <th>968</th>\n",
              "      <td>1</td>\n",
              "      <td>0</td>\n",
              "      <td>0</td>\n",
              "      <td>0</td>\n",
              "      <td>0</td>\n",
              "    </tr>\n",
              "    <tr>\n",
              "      <th>969</th>\n",
              "      <td>1</td>\n",
              "      <td>0</td>\n",
              "      <td>0</td>\n",
              "      <td>0</td>\n",
              "      <td>0</td>\n",
              "    </tr>\n",
              "  </tbody>\n",
              "</table>\n",
              "<p>970 rows × 5 columns</p>\n",
              "</div>"
            ],
            "text/plain": [
              "     disgust  joy  none  sad  surprise\n",
              "0          0    0     1    0         0\n",
              "1          0    1     0    0         0\n",
              "2          0    0     1    0         0\n",
              "3          1    0     0    0         0\n",
              "4          0    0     1    0         0\n",
              "..       ...  ...   ...  ...       ...\n",
              "965        1    0     0    0         0\n",
              "966        1    0     0    0         0\n",
              "967        1    0     0    0         0\n",
              "968        1    0     0    0         0\n",
              "969        1    0     0    0         0\n",
              "\n",
              "[970 rows x 5 columns]"
            ]
          },
          "metadata": {
            "tags": []
          },
          "execution_count": 32
        }
      ]
    },
    {
      "cell_type": "code",
      "metadata": {
        "id": "Azf8rUOB3XdX"
      },
      "source": [
        "vocab_size = 1000\r\n",
        "embedding_dim = 100\r\n",
        "max_length = 30\r\n",
        "trunc_type='post'\r\n",
        "oov_tok = \"<OOV>\"\r\n",
        "\r\n",
        "\r\n",
        "from tensorflow.keras.preprocessing.text import Tokenizer\r\n",
        "from tensorflow.keras.preprocessing.sequence import pad_sequences\r\n",
        "\r\n",
        "tokenizer = Tokenizer(num_words = vocab_size, oov_token=oov_tok)\r\n",
        "tokenizer.fit_on_texts(df2.text)\r\n",
        "word_index = tokenizer.word_index\r\n",
        "sequences = tokenizer.texts_to_sequences(df2.text)\r\n",
        "padded = pad_sequences(sequences,maxlen=max_length, padding='post')"
      ],
      "execution_count": null,
      "outputs": []
    },
    {
      "cell_type": "code",
      "metadata": {
        "colab": {
          "base_uri": "https://localhost:8080/"
        },
        "id": "QLuKeKrr3anf",
        "outputId": "96b03d84-71b5-4e4e-9f35-2d3dca88bba5"
      },
      "source": [
        "model = tf.keras.Sequential([\r\n",
        "    tf.keras.layers.Embedding(vocab_size, embedding_dim, input_length=max_length, trainable=True),\r\n",
        "    tf.keras.layers.Bidirectional(tf.keras.layers.LSTM(300, return_sequences=False)),\r\n",
        "    tf.keras.layers.Dense(y.shape[1], activation='softmax')\r\n",
        "])\r\n",
        "model.compile(loss='categorical_crossentropy',optimizer='adam',metrics=['accuracy'])\r\n",
        "model.summary()\r\n"
      ],
      "execution_count": null,
      "outputs": [
        {
          "output_type": "stream",
          "text": [
            "Model: \"sequential_1\"\n",
            "_________________________________________________________________\n",
            "Layer (type)                 Output Shape              Param #   \n",
            "=================================================================\n",
            "embedding_1 (Embedding)      (None, 30, 100)           100000    \n",
            "_________________________________________________________________\n",
            "bidirectional_1 (Bidirection (None, 600)               962400    \n",
            "_________________________________________________________________\n",
            "dense_1 (Dense)              (None, 5)                 3005      \n",
            "=================================================================\n",
            "Total params: 1,065,405\n",
            "Trainable params: 1,065,405\n",
            "Non-trainable params: 0\n",
            "_________________________________________________________________\n"
          ],
          "name": "stdout"
        }
      ]
    },
    {
      "cell_type": "code",
      "metadata": {
        "id": "Zwtge-SX3dKf"
      },
      "source": [
        "from sklearn.model_selection import train_test_split\r\n",
        "\r\n",
        "X_train, X_test, y_train, y_test = train_test_split(padded, y, test_size=0.2, shuffle=True)"
      ],
      "execution_count": null,
      "outputs": []
    },
    {
      "cell_type": "code",
      "metadata": {
        "colab": {
          "base_uri": "https://localhost:8080/"
        },
        "id": "SfzmNxM03gaP",
        "outputId": "ef04c1a1-629a-4844-88a6-4e0e659e7194"
      },
      "source": [
        "num_epochs = 6\r\n",
        "history = model.fit(X_train, y_train, epochs=num_epochs, validation_data=(X_test, y_test))"
      ],
      "execution_count": null,
      "outputs": [
        {
          "output_type": "stream",
          "text": [
            "Epoch 1/6\n",
            "25/25 [==============================] - 10s 283ms/step - loss: 1.4598 - accuracy: 0.4592 - val_loss: 1.3026 - val_accuracy: 0.5155\n",
            "Epoch 2/6\n",
            "25/25 [==============================] - 6s 250ms/step - loss: 1.3298 - accuracy: 0.4825 - val_loss: 1.2518 - val_accuracy: 0.5309\n",
            "Epoch 3/6\n",
            "25/25 [==============================] - 6s 252ms/step - loss: 1.2409 - accuracy: 0.5343 - val_loss: 1.1538 - val_accuracy: 0.5670\n",
            "Epoch 4/6\n",
            "25/25 [==============================] - 6s 250ms/step - loss: 1.0110 - accuracy: 0.6149 - val_loss: 1.1252 - val_accuracy: 0.6134\n",
            "Epoch 5/6\n",
            "25/25 [==============================] - 6s 251ms/step - loss: 0.8601 - accuracy: 0.7273 - val_loss: 1.0364 - val_accuracy: 0.6701\n",
            "Epoch 6/6\n",
            "25/25 [==============================] - 6s 250ms/step - loss: 0.7326 - accuracy: 0.7401 - val_loss: 1.0770 - val_accuracy: 0.6392\n"
          ],
          "name": "stdout"
        }
      ]
    },
    {
      "cell_type": "code",
      "metadata": {
        "colab": {
          "base_uri": "https://localhost:8080/"
        },
        "id": "2coqZQsw3in4",
        "outputId": "2bb10fd0-2a2b-466e-aa77-f6e99462a295"
      },
      "source": [
        "model.evaluate(X_test, y_test)"
      ],
      "execution_count": null,
      "outputs": [
        {
          "output_type": "stream",
          "text": [
            "7/7 [==============================] - 0s 57ms/step - loss: 1.0770 - accuracy: 0.6392\n"
          ],
          "name": "stdout"
        },
        {
          "output_type": "execute_result",
          "data": {
            "text/plain": [
              "[1.0770385265350342, 0.6391752362251282]"
            ]
          },
          "metadata": {
            "tags": []
          },
          "execution_count": 37
        }
      ]
    },
    {
      "cell_type": "code",
      "metadata": {
        "colab": {
          "base_uri": "https://localhost:8080/"
        },
        "id": "h6ko3x_l3mG_",
        "outputId": "4aa60419-d6e5-4bcd-ba1d-23d20f500dc7"
      },
      "source": [
        "pred = model.predict(X_test)\r\n",
        "\r\n",
        "for i in range(len(pred)):\r\n",
        "  if pred[i][0]==pred[i].max():\r\n",
        "    pred[i][0] = 1\r\n",
        "    pred[i][1] = 0\r\n",
        "    pred[i][2] = 0\r\n",
        "    pred[i][3] = 0\r\n",
        "    pred[i][4] = 0\r\n",
        "    \r\n",
        "  \r\n",
        "  elif pred[i][1]==pred[i].max():\r\n",
        "    pred[i][0] = 0\r\n",
        "    pred[i][1] = 1\r\n",
        "    pred[i][2] = 0\r\n",
        "    pred[i][3] = 0\r\n",
        "    pred[i][4] = 0\r\n",
        "\r\n",
        "  elif pred[i][2]==pred[i].max():\r\n",
        "    pred[i][0] = 0\r\n",
        "    pred[i][1] = 0\r\n",
        "    pred[i][2] = 1\r\n",
        "    pred[i][3] = 0\r\n",
        "    pred[i][4] = 0\r\n",
        "  \r\n",
        "  elif pred[i][3]==pred[i].max():\r\n",
        "    pred[i][0] = 0\r\n",
        "    pred[i][1] = 0\r\n",
        "    pred[i][2] = 0\r\n",
        "    pred[i][3] = 1\r\n",
        "    pred[i][4] = 0\r\n",
        "\r\n",
        "  else:\r\n",
        "    pred[i][0] = 0\r\n",
        "    pred[i][1] = 0\r\n",
        "    pred[i][2] = 0\r\n",
        "    pred[i][3] = 0\r\n",
        "    pred[i][4] = 1\r\n",
        "\r\n",
        "  \r\n",
        "pred[0]"
      ],
      "execution_count": null,
      "outputs": [
        {
          "output_type": "execute_result",
          "data": {
            "text/plain": [
              "array([0., 0., 1., 0., 0.], dtype=float32)"
            ]
          },
          "metadata": {
            "tags": []
          },
          "execution_count": 38
        }
      ]
    },
    {
      "cell_type": "code",
      "metadata": {
        "colab": {
          "base_uri": "https://localhost:8080/"
        },
        "id": "Duc0rM7m4Cmv",
        "outputId": "02d1987f-3b3a-40c0-956f-974e393b0d35"
      },
      "source": [
        "from sklearn.metrics import f1_score\r\n",
        "f1_score(y_test, pred, average='weighted')"
      ],
      "execution_count": null,
      "outputs": [
        {
          "output_type": "execute_result",
          "data": {
            "text/plain": [
              "0.6130187926947868"
            ]
          },
          "metadata": {
            "tags": []
          },
          "execution_count": 39
        }
      ]
    },
    {
      "cell_type": "code",
      "metadata": {
        "colab": {
          "base_uri": "https://localhost:8080/"
        },
        "id": "V79BmnVN4F3X",
        "outputId": "a82bb13a-bd1c-4e4b-df1f-6a3cd33057d1"
      },
      "source": [
        "from sklearn.metrics import accuracy_score\r\n",
        "accuracy_score(y_test, pred)"
      ],
      "execution_count": null,
      "outputs": [
        {
          "output_type": "execute_result",
          "data": {
            "text/plain": [
              "0.6391752577319587"
            ]
          },
          "metadata": {
            "tags": []
          },
          "execution_count": 40
        }
      ]
    },
    {
      "cell_type": "code",
      "metadata": {
        "id": "cOx8jArX4JXf"
      },
      "source": [
        ""
      ],
      "execution_count": null,
      "outputs": []
    }
  ]
}